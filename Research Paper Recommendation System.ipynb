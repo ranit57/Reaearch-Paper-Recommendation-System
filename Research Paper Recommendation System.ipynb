{
  "nbformat": 4,
  "nbformat_minor": 0,
  "metadata": {
    "colab": {
      "provenance": []
    },
    "kernelspec": {
      "name": "python3",
      "display_name": "Python 3"
    },
    "language_info": {
      "name": "python"
    }
  },
  "cells": [
    {
      "cell_type": "code",
      "execution_count": 105,
      "metadata": {
        "colab": {
          "base_uri": "https://localhost:8080/"
        },
        "id": "AbuCuclejYLq",
        "outputId": "9e209afa-7007-4bbb-e877-1f2a302bb15d"
      },
      "outputs": [
        {
          "output_type": "stream",
          "name": "stderr",
          "text": [
            "[nltk_data] Downloading package wordnet to /root/nltk_data...\n",
            "[nltk_data]   Package wordnet is already up-to-date!\n",
            "[nltk_data] Downloading package punkt to /root/nltk_data...\n",
            "[nltk_data]   Package punkt is already up-to-date!\n"
          ]
        }
      ],
      "source": [
        "# Importing necessary libraries\n",
        "import numpy as np\n",
        "import pandas as pd\n",
        "import json\n",
        "import nltk\n",
        "from nltk.stem.porter import PorterStemmer\n",
        "nltk.download('wordnet')\n",
        "nltk.download('punkt')\n",
        "from nltk.stem import WordNetLemmatizer\n",
        "from sklearn.feature_extraction.text import CountVectorizer\n",
        "from sklearn.metrics.pairwise import cosine_similarity\n",
        "from tqdm import tqdm"
      ]
    },
    {
      "cell_type": "code",
      "source": [
        "# Mounting the drive to fetch data\n",
        "from google.colab import drive\n",
        "drive.mount('/content/drive')"
      ],
      "metadata": {
        "colab": {
          "base_uri": "https://localhost:8080/"
        },
        "id": "s_-z9os5jiFL",
        "outputId": "ca791378-a89e-4353-838f-9d3dce91a6cb"
      },
      "execution_count": 144,
      "outputs": [
        {
          "output_type": "stream",
          "name": "stdout",
          "text": [
            "Drive already mounted at /content/drive; to attempt to forcibly remount, call drive.mount(\"/content/drive\", force_remount=True).\n"
          ]
        }
      ]
    },
    {
      "cell_type": "code",
      "source": [
        "# Loading some amount of data \n",
        "lst = []\n",
        "c=0\n",
        "for row in open(\"/content/drive/MyDrive/arxiv-metadata-oai-snapshot.json\",'r'):\n",
        "  c+=1\n",
        "  data = json.loads(row)\n",
        "  lst.append(data)\n",
        "  if c==5000:\n",
        "    break"
      ],
      "metadata": {
        "id": "CFPltfs-jr5U"
      },
      "execution_count": 106,
      "outputs": []
    },
    {
      "cell_type": "code",
      "source": [
        "# Converting the input data to a Dataframe\n",
        "df = pd.DataFrame(lst)\n",
        "paper=df\n",
        "paper.head()"
      ],
      "metadata": {
        "colab": {
          "base_uri": "https://localhost:8080/",
          "height": 739
        },
        "id": "m5HWcL2VkNJp",
        "outputId": "3470c4b3-6162-4f21-adf4-60be20f7d0d4"
      },
      "execution_count": 110,
      "outputs": [
        {
          "output_type": "execute_result",
          "data": {
            "text/plain": [
              "          id           submitter  \\\n",
              "0  0704.0001      Pavel Nadolsky   \n",
              "1  0704.0002        Louis Theran   \n",
              "2  0704.0003         Hongjun Pan   \n",
              "3  0704.0004        David Callan   \n",
              "4  0704.0005  Alberto Torchinsky   \n",
              "\n",
              "                                             authors  \\\n",
              "0  C. Bal\\'azs, E. L. Berger, P. M. Nadolsky, C.-...   \n",
              "1                    Ileana Streinu and Louis Theran   \n",
              "2                                        Hongjun Pan   \n",
              "3                                       David Callan   \n",
              "4           Wael Abu-Shammala and Alberto Torchinsky   \n",
              "\n",
              "                                               title  \\\n",
              "0  Calculation of prompt diphoton production cros...   \n",
              "1           Sparsity-certifying Graph Decompositions   \n",
              "2  The evolution of the Earth-Moon system based o...   \n",
              "3  A determinant of Stirling cycle numbers counts...   \n",
              "4  From dyadic $\\Lambda_{\\alpha}$ to $\\Lambda_{\\a...   \n",
              "\n",
              "                                  comments  \\\n",
              "0  37 pages, 15 figures; published version   \n",
              "1    To appear in Graphs and Combinatorics   \n",
              "2                      23 pages, 3 figures   \n",
              "3                                 11 pages   \n",
              "4                                     None   \n",
              "\n",
              "                                 journal-ref                         doi  \\\n",
              "0                   Phys.Rev.D76:013009,2007  10.1103/PhysRevD.76.013009   \n",
              "1                                       None                        None   \n",
              "2                                       None                        None   \n",
              "3                                       None                        None   \n",
              "4  Illinois J. Math. 52 (2008) no.2, 681-689                        None   \n",
              "\n",
              "          report-no       categories  \\\n",
              "0  ANL-HEP-PR-07-12           hep-ph   \n",
              "1              None    math.CO cs.CG   \n",
              "2              None   physics.gen-ph   \n",
              "3              None          math.CO   \n",
              "4              None  math.CA math.FA   \n",
              "\n",
              "                                             license  \\\n",
              "0                                               None   \n",
              "1  http://arxiv.org/licenses/nonexclusive-distrib...   \n",
              "2                                               None   \n",
              "3                                               None   \n",
              "4                                               None   \n",
              "\n",
              "                                            abstract  \\\n",
              "0    A fully differential calculation in perturba...   \n",
              "1    We describe a new algorithm, the $(k,\\ell)$-...   \n",
              "2    The evolution of Earth-Moon system is descri...   \n",
              "3    We show that a determinant of Stirling cycle...   \n",
              "4    In this paper we show how to compute the $\\L...   \n",
              "\n",
              "                                            versions update_date  \\\n",
              "0  [{'version': 'v1', 'created': 'Mon, 2 Apr 2007...  2008-11-26   \n",
              "1  [{'version': 'v1', 'created': 'Sat, 31 Mar 200...  2008-12-13   \n",
              "2  [{'version': 'v1', 'created': 'Sun, 1 Apr 2007...  2008-01-13   \n",
              "3  [{'version': 'v1', 'created': 'Sat, 31 Mar 200...  2007-05-23   \n",
              "4  [{'version': 'v1', 'created': 'Mon, 2 Apr 2007...  2013-10-15   \n",
              "\n",
              "                                      authors_parsed  \n",
              "0  [[Balázs, C., ], [Berger, E. L., ], [Nadolsky,...  \n",
              "1           [[Streinu, Ileana, ], [Theran, Louis, ]]  \n",
              "2                                 [[Pan, Hongjun, ]]  \n",
              "3                                [[Callan, David, ]]  \n",
              "4  [[Abu-Shammala, Wael, ], [Torchinsky, Alberto, ]]  "
            ],
            "text/html": [
              "\n",
              "  <div id=\"df-88bfe231-5887-4b3d-9705-4f10771a7c59\">\n",
              "    <div class=\"colab-df-container\">\n",
              "      <div>\n",
              "<style scoped>\n",
              "    .dataframe tbody tr th:only-of-type {\n",
              "        vertical-align: middle;\n",
              "    }\n",
              "\n",
              "    .dataframe tbody tr th {\n",
              "        vertical-align: top;\n",
              "    }\n",
              "\n",
              "    .dataframe thead th {\n",
              "        text-align: right;\n",
              "    }\n",
              "</style>\n",
              "<table border=\"1\" class=\"dataframe\">\n",
              "  <thead>\n",
              "    <tr style=\"text-align: right;\">\n",
              "      <th></th>\n",
              "      <th>id</th>\n",
              "      <th>submitter</th>\n",
              "      <th>authors</th>\n",
              "      <th>title</th>\n",
              "      <th>comments</th>\n",
              "      <th>journal-ref</th>\n",
              "      <th>doi</th>\n",
              "      <th>report-no</th>\n",
              "      <th>categories</th>\n",
              "      <th>license</th>\n",
              "      <th>abstract</th>\n",
              "      <th>versions</th>\n",
              "      <th>update_date</th>\n",
              "      <th>authors_parsed</th>\n",
              "    </tr>\n",
              "  </thead>\n",
              "  <tbody>\n",
              "    <tr>\n",
              "      <th>0</th>\n",
              "      <td>0704.0001</td>\n",
              "      <td>Pavel Nadolsky</td>\n",
              "      <td>C. Bal\\'azs, E. L. Berger, P. M. Nadolsky, C.-...</td>\n",
              "      <td>Calculation of prompt diphoton production cros...</td>\n",
              "      <td>37 pages, 15 figures; published version</td>\n",
              "      <td>Phys.Rev.D76:013009,2007</td>\n",
              "      <td>10.1103/PhysRevD.76.013009</td>\n",
              "      <td>ANL-HEP-PR-07-12</td>\n",
              "      <td>hep-ph</td>\n",
              "      <td>None</td>\n",
              "      <td>A fully differential calculation in perturba...</td>\n",
              "      <td>[{'version': 'v1', 'created': 'Mon, 2 Apr 2007...</td>\n",
              "      <td>2008-11-26</td>\n",
              "      <td>[[Balázs, C., ], [Berger, E. L., ], [Nadolsky,...</td>\n",
              "    </tr>\n",
              "    <tr>\n",
              "      <th>1</th>\n",
              "      <td>0704.0002</td>\n",
              "      <td>Louis Theran</td>\n",
              "      <td>Ileana Streinu and Louis Theran</td>\n",
              "      <td>Sparsity-certifying Graph Decompositions</td>\n",
              "      <td>To appear in Graphs and Combinatorics</td>\n",
              "      <td>None</td>\n",
              "      <td>None</td>\n",
              "      <td>None</td>\n",
              "      <td>math.CO cs.CG</td>\n",
              "      <td>http://arxiv.org/licenses/nonexclusive-distrib...</td>\n",
              "      <td>We describe a new algorithm, the $(k,\\ell)$-...</td>\n",
              "      <td>[{'version': 'v1', 'created': 'Sat, 31 Mar 200...</td>\n",
              "      <td>2008-12-13</td>\n",
              "      <td>[[Streinu, Ileana, ], [Theran, Louis, ]]</td>\n",
              "    </tr>\n",
              "    <tr>\n",
              "      <th>2</th>\n",
              "      <td>0704.0003</td>\n",
              "      <td>Hongjun Pan</td>\n",
              "      <td>Hongjun Pan</td>\n",
              "      <td>The evolution of the Earth-Moon system based o...</td>\n",
              "      <td>23 pages, 3 figures</td>\n",
              "      <td>None</td>\n",
              "      <td>None</td>\n",
              "      <td>None</td>\n",
              "      <td>physics.gen-ph</td>\n",
              "      <td>None</td>\n",
              "      <td>The evolution of Earth-Moon system is descri...</td>\n",
              "      <td>[{'version': 'v1', 'created': 'Sun, 1 Apr 2007...</td>\n",
              "      <td>2008-01-13</td>\n",
              "      <td>[[Pan, Hongjun, ]]</td>\n",
              "    </tr>\n",
              "    <tr>\n",
              "      <th>3</th>\n",
              "      <td>0704.0004</td>\n",
              "      <td>David Callan</td>\n",
              "      <td>David Callan</td>\n",
              "      <td>A determinant of Stirling cycle numbers counts...</td>\n",
              "      <td>11 pages</td>\n",
              "      <td>None</td>\n",
              "      <td>None</td>\n",
              "      <td>None</td>\n",
              "      <td>math.CO</td>\n",
              "      <td>None</td>\n",
              "      <td>We show that a determinant of Stirling cycle...</td>\n",
              "      <td>[{'version': 'v1', 'created': 'Sat, 31 Mar 200...</td>\n",
              "      <td>2007-05-23</td>\n",
              "      <td>[[Callan, David, ]]</td>\n",
              "    </tr>\n",
              "    <tr>\n",
              "      <th>4</th>\n",
              "      <td>0704.0005</td>\n",
              "      <td>Alberto Torchinsky</td>\n",
              "      <td>Wael Abu-Shammala and Alberto Torchinsky</td>\n",
              "      <td>From dyadic $\\Lambda_{\\alpha}$ to $\\Lambda_{\\a...</td>\n",
              "      <td>None</td>\n",
              "      <td>Illinois J. Math. 52 (2008) no.2, 681-689</td>\n",
              "      <td>None</td>\n",
              "      <td>None</td>\n",
              "      <td>math.CA math.FA</td>\n",
              "      <td>None</td>\n",
              "      <td>In this paper we show how to compute the $\\L...</td>\n",
              "      <td>[{'version': 'v1', 'created': 'Mon, 2 Apr 2007...</td>\n",
              "      <td>2013-10-15</td>\n",
              "      <td>[[Abu-Shammala, Wael, ], [Torchinsky, Alberto, ]]</td>\n",
              "    </tr>\n",
              "  </tbody>\n",
              "</table>\n",
              "</div>\n",
              "      <button class=\"colab-df-convert\" onclick=\"convertToInteractive('df-88bfe231-5887-4b3d-9705-4f10771a7c59')\"\n",
              "              title=\"Convert this dataframe to an interactive table.\"\n",
              "              style=\"display:none;\">\n",
              "        \n",
              "  <svg xmlns=\"http://www.w3.org/2000/svg\" height=\"24px\"viewBox=\"0 0 24 24\"\n",
              "       width=\"24px\">\n",
              "    <path d=\"M0 0h24v24H0V0z\" fill=\"none\"/>\n",
              "    <path d=\"M18.56 5.44l.94 2.06.94-2.06 2.06-.94-2.06-.94-.94-2.06-.94 2.06-2.06.94zm-11 1L8.5 8.5l.94-2.06 2.06-.94-2.06-.94L8.5 2.5l-.94 2.06-2.06.94zm10 10l.94 2.06.94-2.06 2.06-.94-2.06-.94-.94-2.06-.94 2.06-2.06.94z\"/><path d=\"M17.41 7.96l-1.37-1.37c-.4-.4-.92-.59-1.43-.59-.52 0-1.04.2-1.43.59L10.3 9.45l-7.72 7.72c-.78.78-.78 2.05 0 2.83L4 21.41c.39.39.9.59 1.41.59.51 0 1.02-.2 1.41-.59l7.78-7.78 2.81-2.81c.8-.78.8-2.07 0-2.86zM5.41 20L4 18.59l7.72-7.72 1.47 1.35L5.41 20z\"/>\n",
              "  </svg>\n",
              "      </button>\n",
              "      \n",
              "  <style>\n",
              "    .colab-df-container {\n",
              "      display:flex;\n",
              "      flex-wrap:wrap;\n",
              "      gap: 12px;\n",
              "    }\n",
              "\n",
              "    .colab-df-convert {\n",
              "      background-color: #E8F0FE;\n",
              "      border: none;\n",
              "      border-radius: 50%;\n",
              "      cursor: pointer;\n",
              "      display: none;\n",
              "      fill: #1967D2;\n",
              "      height: 32px;\n",
              "      padding: 0 0 0 0;\n",
              "      width: 32px;\n",
              "    }\n",
              "\n",
              "    .colab-df-convert:hover {\n",
              "      background-color: #E2EBFA;\n",
              "      box-shadow: 0px 1px 2px rgba(60, 64, 67, 0.3), 0px 1px 3px 1px rgba(60, 64, 67, 0.15);\n",
              "      fill: #174EA6;\n",
              "    }\n",
              "\n",
              "    [theme=dark] .colab-df-convert {\n",
              "      background-color: #3B4455;\n",
              "      fill: #D2E3FC;\n",
              "    }\n",
              "\n",
              "    [theme=dark] .colab-df-convert:hover {\n",
              "      background-color: #434B5C;\n",
              "      box-shadow: 0px 1px 3px 1px rgba(0, 0, 0, 0.15);\n",
              "      filter: drop-shadow(0px 1px 2px rgba(0, 0, 0, 0.3));\n",
              "      fill: #FFFFFF;\n",
              "    }\n",
              "  </style>\n",
              "\n",
              "      <script>\n",
              "        const buttonEl =\n",
              "          document.querySelector('#df-88bfe231-5887-4b3d-9705-4f10771a7c59 button.colab-df-convert');\n",
              "        buttonEl.style.display =\n",
              "          google.colab.kernel.accessAllowed ? 'block' : 'none';\n",
              "\n",
              "        async function convertToInteractive(key) {\n",
              "          const element = document.querySelector('#df-88bfe231-5887-4b3d-9705-4f10771a7c59');\n",
              "          const dataTable =\n",
              "            await google.colab.kernel.invokeFunction('convertToInteractive',\n",
              "                                                     [key], {});\n",
              "          if (!dataTable) return;\n",
              "\n",
              "          const docLinkHtml = 'Like what you see? Visit the ' +\n",
              "            '<a target=\"_blank\" href=https://colab.research.google.com/notebooks/data_table.ipynb>data table notebook</a>'\n",
              "            + ' to learn more about interactive tables.';\n",
              "          element.innerHTML = '';\n",
              "          dataTable['output_type'] = 'display_data';\n",
              "          await google.colab.output.renderOutput(dataTable, element);\n",
              "          const docLink = document.createElement('div');\n",
              "          docLink.innerHTML = docLinkHtml;\n",
              "          element.appendChild(docLink);\n",
              "        }\n",
              "      </script>\n",
              "    </div>\n",
              "  </div>\n",
              "  "
            ]
          },
          "metadata": {},
          "execution_count": 110
        }
      ]
    },
    {
      "cell_type": "code",
      "source": [
        "# Converting to lower case and combining title and abstract which will be used for the recommendation\n",
        "paper=paper[['id','authors','title','abstract']]\n",
        "paper.duplicated().sum()\n",
        "\n",
        "paper['title'] = paper['title'].str.lower()\n",
        "paper['abstract'] = paper['abstract'].str.lower()\n",
        "\n",
        "paper['tags'] =paper['title']+paper['abstract']\n",
        "paper.head(5)"
      ],
      "metadata": {
        "colab": {
          "base_uri": "https://localhost:8080/",
          "height": 337
        },
        "id": "M2MzZlqtkNKe",
        "outputId": "54dd931d-aa11-47a0-e77a-543cd98c78fb"
      },
      "execution_count": 111,
      "outputs": [
        {
          "output_type": "execute_result",
          "data": {
            "text/plain": [
              "          id                                            authors  \\\n",
              "0  0704.0001  C. Bal\\'azs, E. L. Berger, P. M. Nadolsky, C.-...   \n",
              "1  0704.0002                    Ileana Streinu and Louis Theran   \n",
              "2  0704.0003                                        Hongjun Pan   \n",
              "3  0704.0004                                       David Callan   \n",
              "4  0704.0005           Wael Abu-Shammala and Alberto Torchinsky   \n",
              "\n",
              "                                               title  \\\n",
              "0  calculation of prompt diphoton production cros...   \n",
              "1           sparsity-certifying graph decompositions   \n",
              "2  the evolution of the earth-moon system based o...   \n",
              "3  a determinant of stirling cycle numbers counts...   \n",
              "4  from dyadic $\\lambda_{\\alpha}$ to $\\lambda_{\\a...   \n",
              "\n",
              "                                            abstract  \\\n",
              "0    a fully differential calculation in perturba...   \n",
              "1    we describe a new algorithm, the $(k,\\ell)$-...   \n",
              "2    the evolution of earth-moon system is descri...   \n",
              "3    we show that a determinant of stirling cycle...   \n",
              "4    in this paper we show how to compute the $\\l...   \n",
              "\n",
              "                                                tags  \n",
              "0  calculation of prompt diphoton production cros...  \n",
              "1  sparsity-certifying graph decompositions  we d...  \n",
              "2  the evolution of the earth-moon system based o...  \n",
              "3  a determinant of stirling cycle numbers counts...  \n",
              "4  from dyadic $\\lambda_{\\alpha}$ to $\\lambda_{\\a...  "
            ],
            "text/html": [
              "\n",
              "  <div id=\"df-1be72ef7-7f7a-4eeb-b0ff-685c4e9e57e4\">\n",
              "    <div class=\"colab-df-container\">\n",
              "      <div>\n",
              "<style scoped>\n",
              "    .dataframe tbody tr th:only-of-type {\n",
              "        vertical-align: middle;\n",
              "    }\n",
              "\n",
              "    .dataframe tbody tr th {\n",
              "        vertical-align: top;\n",
              "    }\n",
              "\n",
              "    .dataframe thead th {\n",
              "        text-align: right;\n",
              "    }\n",
              "</style>\n",
              "<table border=\"1\" class=\"dataframe\">\n",
              "  <thead>\n",
              "    <tr style=\"text-align: right;\">\n",
              "      <th></th>\n",
              "      <th>id</th>\n",
              "      <th>authors</th>\n",
              "      <th>title</th>\n",
              "      <th>abstract</th>\n",
              "      <th>tags</th>\n",
              "    </tr>\n",
              "  </thead>\n",
              "  <tbody>\n",
              "    <tr>\n",
              "      <th>0</th>\n",
              "      <td>0704.0001</td>\n",
              "      <td>C. Bal\\'azs, E. L. Berger, P. M. Nadolsky, C.-...</td>\n",
              "      <td>calculation of prompt diphoton production cros...</td>\n",
              "      <td>a fully differential calculation in perturba...</td>\n",
              "      <td>calculation of prompt diphoton production cros...</td>\n",
              "    </tr>\n",
              "    <tr>\n",
              "      <th>1</th>\n",
              "      <td>0704.0002</td>\n",
              "      <td>Ileana Streinu and Louis Theran</td>\n",
              "      <td>sparsity-certifying graph decompositions</td>\n",
              "      <td>we describe a new algorithm, the $(k,\\ell)$-...</td>\n",
              "      <td>sparsity-certifying graph decompositions  we d...</td>\n",
              "    </tr>\n",
              "    <tr>\n",
              "      <th>2</th>\n",
              "      <td>0704.0003</td>\n",
              "      <td>Hongjun Pan</td>\n",
              "      <td>the evolution of the earth-moon system based o...</td>\n",
              "      <td>the evolution of earth-moon system is descri...</td>\n",
              "      <td>the evolution of the earth-moon system based o...</td>\n",
              "    </tr>\n",
              "    <tr>\n",
              "      <th>3</th>\n",
              "      <td>0704.0004</td>\n",
              "      <td>David Callan</td>\n",
              "      <td>a determinant of stirling cycle numbers counts...</td>\n",
              "      <td>we show that a determinant of stirling cycle...</td>\n",
              "      <td>a determinant of stirling cycle numbers counts...</td>\n",
              "    </tr>\n",
              "    <tr>\n",
              "      <th>4</th>\n",
              "      <td>0704.0005</td>\n",
              "      <td>Wael Abu-Shammala and Alberto Torchinsky</td>\n",
              "      <td>from dyadic $\\lambda_{\\alpha}$ to $\\lambda_{\\a...</td>\n",
              "      <td>in this paper we show how to compute the $\\l...</td>\n",
              "      <td>from dyadic $\\lambda_{\\alpha}$ to $\\lambda_{\\a...</td>\n",
              "    </tr>\n",
              "  </tbody>\n",
              "</table>\n",
              "</div>\n",
              "      <button class=\"colab-df-convert\" onclick=\"convertToInteractive('df-1be72ef7-7f7a-4eeb-b0ff-685c4e9e57e4')\"\n",
              "              title=\"Convert this dataframe to an interactive table.\"\n",
              "              style=\"display:none;\">\n",
              "        \n",
              "  <svg xmlns=\"http://www.w3.org/2000/svg\" height=\"24px\"viewBox=\"0 0 24 24\"\n",
              "       width=\"24px\">\n",
              "    <path d=\"M0 0h24v24H0V0z\" fill=\"none\"/>\n",
              "    <path d=\"M18.56 5.44l.94 2.06.94-2.06 2.06-.94-2.06-.94-.94-2.06-.94 2.06-2.06.94zm-11 1L8.5 8.5l.94-2.06 2.06-.94-2.06-.94L8.5 2.5l-.94 2.06-2.06.94zm10 10l.94 2.06.94-2.06 2.06-.94-2.06-.94-.94-2.06-.94 2.06-2.06.94z\"/><path d=\"M17.41 7.96l-1.37-1.37c-.4-.4-.92-.59-1.43-.59-.52 0-1.04.2-1.43.59L10.3 9.45l-7.72 7.72c-.78.78-.78 2.05 0 2.83L4 21.41c.39.39.9.59 1.41.59.51 0 1.02-.2 1.41-.59l7.78-7.78 2.81-2.81c.8-.78.8-2.07 0-2.86zM5.41 20L4 18.59l7.72-7.72 1.47 1.35L5.41 20z\"/>\n",
              "  </svg>\n",
              "      </button>\n",
              "      \n",
              "  <style>\n",
              "    .colab-df-container {\n",
              "      display:flex;\n",
              "      flex-wrap:wrap;\n",
              "      gap: 12px;\n",
              "    }\n",
              "\n",
              "    .colab-df-convert {\n",
              "      background-color: #E8F0FE;\n",
              "      border: none;\n",
              "      border-radius: 50%;\n",
              "      cursor: pointer;\n",
              "      display: none;\n",
              "      fill: #1967D2;\n",
              "      height: 32px;\n",
              "      padding: 0 0 0 0;\n",
              "      width: 32px;\n",
              "    }\n",
              "\n",
              "    .colab-df-convert:hover {\n",
              "      background-color: #E2EBFA;\n",
              "      box-shadow: 0px 1px 2px rgba(60, 64, 67, 0.3), 0px 1px 3px 1px rgba(60, 64, 67, 0.15);\n",
              "      fill: #174EA6;\n",
              "    }\n",
              "\n",
              "    [theme=dark] .colab-df-convert {\n",
              "      background-color: #3B4455;\n",
              "      fill: #D2E3FC;\n",
              "    }\n",
              "\n",
              "    [theme=dark] .colab-df-convert:hover {\n",
              "      background-color: #434B5C;\n",
              "      box-shadow: 0px 1px 3px 1px rgba(0, 0, 0, 0.15);\n",
              "      filter: drop-shadow(0px 1px 2px rgba(0, 0, 0, 0.3));\n",
              "      fill: #FFFFFF;\n",
              "    }\n",
              "  </style>\n",
              "\n",
              "      <script>\n",
              "        const buttonEl =\n",
              "          document.querySelector('#df-1be72ef7-7f7a-4eeb-b0ff-685c4e9e57e4 button.colab-df-convert');\n",
              "        buttonEl.style.display =\n",
              "          google.colab.kernel.accessAllowed ? 'block' : 'none';\n",
              "\n",
              "        async function convertToInteractive(key) {\n",
              "          const element = document.querySelector('#df-1be72ef7-7f7a-4eeb-b0ff-685c4e9e57e4');\n",
              "          const dataTable =\n",
              "            await google.colab.kernel.invokeFunction('convertToInteractive',\n",
              "                                                     [key], {});\n",
              "          if (!dataTable) return;\n",
              "\n",
              "          const docLinkHtml = 'Like what you see? Visit the ' +\n",
              "            '<a target=\"_blank\" href=https://colab.research.google.com/notebooks/data_table.ipynb>data table notebook</a>'\n",
              "            + ' to learn more about interactive tables.';\n",
              "          element.innerHTML = '';\n",
              "          dataTable['output_type'] = 'display_data';\n",
              "          await google.colab.output.renderOutput(dataTable, element);\n",
              "          const docLink = document.createElement('div');\n",
              "          docLink.innerHTML = docLinkHtml;\n",
              "          element.appendChild(docLink);\n",
              "        }\n",
              "      </script>\n",
              "    </div>\n",
              "  </div>\n",
              "  "
            ]
          },
          "metadata": {},
          "execution_count": 111
        }
      ]
    },
    {
      "cell_type": "code",
      "source": [
        "paper= paper[paper['tags'].notnull()]\n",
        "\n",
        "# Splitting the tags\n",
        "def convert(text):\n",
        "    L = []\n",
        "    st=\"\"\n",
        "    counter = 0\n",
        "    s=text.split(sep=None, maxsplit=-1)\n",
        "    for i in s:\n",
        "         if i[-1]==',' or i[-1]==';' or i[-1]=='.':\n",
        "            i=i[:-1]\n",
        "    \n",
        "         L.append(s)\n",
        "    for i in L:\n",
        "      for j in i:\n",
        "        st+=j+\" \"\n",
        "    return st\n",
        "paper['tags'] = paper['tags'].apply(convert) \n",
        "paper.head(5)"
      ],
      "metadata": {
        "colab": {
          "base_uri": "https://localhost:8080/",
          "height": 337
        },
        "id": "3e_hMQ25kNOh",
        "outputId": "6b6f4be2-ef26-4a14-b240-2bcd0280e4d8"
      },
      "execution_count": 112,
      "outputs": [
        {
          "output_type": "execute_result",
          "data": {
            "text/plain": [
              "          id                                            authors  \\\n",
              "0  0704.0001  C. Bal\\'azs, E. L. Berger, P. M. Nadolsky, C.-...   \n",
              "1  0704.0002                    Ileana Streinu and Louis Theran   \n",
              "2  0704.0003                                        Hongjun Pan   \n",
              "3  0704.0004                                       David Callan   \n",
              "4  0704.0005           Wael Abu-Shammala and Alberto Torchinsky   \n",
              "\n",
              "                                               title  \\\n",
              "0  calculation of prompt diphoton production cros...   \n",
              "1           sparsity-certifying graph decompositions   \n",
              "2  the evolution of the earth-moon system based o...   \n",
              "3  a determinant of stirling cycle numbers counts...   \n",
              "4  from dyadic $\\lambda_{\\alpha}$ to $\\lambda_{\\a...   \n",
              "\n",
              "                                            abstract  \\\n",
              "0    a fully differential calculation in perturba...   \n",
              "1    we describe a new algorithm, the $(k,\\ell)$-...   \n",
              "2    the evolution of earth-moon system is descri...   \n",
              "3    we show that a determinant of stirling cycle...   \n",
              "4    in this paper we show how to compute the $\\l...   \n",
              "\n",
              "                                                tags  \n",
              "0  calculation of prompt diphoton production cros...  \n",
              "1  sparsity-certifying graph decompositions we de...  \n",
              "2  the evolution of the earth-moon system based o...  \n",
              "3  a determinant of stirling cycle numbers counts...  \n",
              "4  from dyadic $\\lambda_{\\alpha}$ to $\\lambda_{\\a...  "
            ],
            "text/html": [
              "\n",
              "  <div id=\"df-77fc85d9-8c6f-41a8-9190-5b3af36505ca\">\n",
              "    <div class=\"colab-df-container\">\n",
              "      <div>\n",
              "<style scoped>\n",
              "    .dataframe tbody tr th:only-of-type {\n",
              "        vertical-align: middle;\n",
              "    }\n",
              "\n",
              "    .dataframe tbody tr th {\n",
              "        vertical-align: top;\n",
              "    }\n",
              "\n",
              "    .dataframe thead th {\n",
              "        text-align: right;\n",
              "    }\n",
              "</style>\n",
              "<table border=\"1\" class=\"dataframe\">\n",
              "  <thead>\n",
              "    <tr style=\"text-align: right;\">\n",
              "      <th></th>\n",
              "      <th>id</th>\n",
              "      <th>authors</th>\n",
              "      <th>title</th>\n",
              "      <th>abstract</th>\n",
              "      <th>tags</th>\n",
              "    </tr>\n",
              "  </thead>\n",
              "  <tbody>\n",
              "    <tr>\n",
              "      <th>0</th>\n",
              "      <td>0704.0001</td>\n",
              "      <td>C. Bal\\'azs, E. L. Berger, P. M. Nadolsky, C.-...</td>\n",
              "      <td>calculation of prompt diphoton production cros...</td>\n",
              "      <td>a fully differential calculation in perturba...</td>\n",
              "      <td>calculation of prompt diphoton production cros...</td>\n",
              "    </tr>\n",
              "    <tr>\n",
              "      <th>1</th>\n",
              "      <td>0704.0002</td>\n",
              "      <td>Ileana Streinu and Louis Theran</td>\n",
              "      <td>sparsity-certifying graph decompositions</td>\n",
              "      <td>we describe a new algorithm, the $(k,\\ell)$-...</td>\n",
              "      <td>sparsity-certifying graph decompositions we de...</td>\n",
              "    </tr>\n",
              "    <tr>\n",
              "      <th>2</th>\n",
              "      <td>0704.0003</td>\n",
              "      <td>Hongjun Pan</td>\n",
              "      <td>the evolution of the earth-moon system based o...</td>\n",
              "      <td>the evolution of earth-moon system is descri...</td>\n",
              "      <td>the evolution of the earth-moon system based o...</td>\n",
              "    </tr>\n",
              "    <tr>\n",
              "      <th>3</th>\n",
              "      <td>0704.0004</td>\n",
              "      <td>David Callan</td>\n",
              "      <td>a determinant of stirling cycle numbers counts...</td>\n",
              "      <td>we show that a determinant of stirling cycle...</td>\n",
              "      <td>a determinant of stirling cycle numbers counts...</td>\n",
              "    </tr>\n",
              "    <tr>\n",
              "      <th>4</th>\n",
              "      <td>0704.0005</td>\n",
              "      <td>Wael Abu-Shammala and Alberto Torchinsky</td>\n",
              "      <td>from dyadic $\\lambda_{\\alpha}$ to $\\lambda_{\\a...</td>\n",
              "      <td>in this paper we show how to compute the $\\l...</td>\n",
              "      <td>from dyadic $\\lambda_{\\alpha}$ to $\\lambda_{\\a...</td>\n",
              "    </tr>\n",
              "  </tbody>\n",
              "</table>\n",
              "</div>\n",
              "      <button class=\"colab-df-convert\" onclick=\"convertToInteractive('df-77fc85d9-8c6f-41a8-9190-5b3af36505ca')\"\n",
              "              title=\"Convert this dataframe to an interactive table.\"\n",
              "              style=\"display:none;\">\n",
              "        \n",
              "  <svg xmlns=\"http://www.w3.org/2000/svg\" height=\"24px\"viewBox=\"0 0 24 24\"\n",
              "       width=\"24px\">\n",
              "    <path d=\"M0 0h24v24H0V0z\" fill=\"none\"/>\n",
              "    <path d=\"M18.56 5.44l.94 2.06.94-2.06 2.06-.94-2.06-.94-.94-2.06-.94 2.06-2.06.94zm-11 1L8.5 8.5l.94-2.06 2.06-.94-2.06-.94L8.5 2.5l-.94 2.06-2.06.94zm10 10l.94 2.06.94-2.06 2.06-.94-2.06-.94-.94-2.06-.94 2.06-2.06.94z\"/><path d=\"M17.41 7.96l-1.37-1.37c-.4-.4-.92-.59-1.43-.59-.52 0-1.04.2-1.43.59L10.3 9.45l-7.72 7.72c-.78.78-.78 2.05 0 2.83L4 21.41c.39.39.9.59 1.41.59.51 0 1.02-.2 1.41-.59l7.78-7.78 2.81-2.81c.8-.78.8-2.07 0-2.86zM5.41 20L4 18.59l7.72-7.72 1.47 1.35L5.41 20z\"/>\n",
              "  </svg>\n",
              "      </button>\n",
              "      \n",
              "  <style>\n",
              "    .colab-df-container {\n",
              "      display:flex;\n",
              "      flex-wrap:wrap;\n",
              "      gap: 12px;\n",
              "    }\n",
              "\n",
              "    .colab-df-convert {\n",
              "      background-color: #E8F0FE;\n",
              "      border: none;\n",
              "      border-radius: 50%;\n",
              "      cursor: pointer;\n",
              "      display: none;\n",
              "      fill: #1967D2;\n",
              "      height: 32px;\n",
              "      padding: 0 0 0 0;\n",
              "      width: 32px;\n",
              "    }\n",
              "\n",
              "    .colab-df-convert:hover {\n",
              "      background-color: #E2EBFA;\n",
              "      box-shadow: 0px 1px 2px rgba(60, 64, 67, 0.3), 0px 1px 3px 1px rgba(60, 64, 67, 0.15);\n",
              "      fill: #174EA6;\n",
              "    }\n",
              "\n",
              "    [theme=dark] .colab-df-convert {\n",
              "      background-color: #3B4455;\n",
              "      fill: #D2E3FC;\n",
              "    }\n",
              "\n",
              "    [theme=dark] .colab-df-convert:hover {\n",
              "      background-color: #434B5C;\n",
              "      box-shadow: 0px 1px 3px 1px rgba(0, 0, 0, 0.15);\n",
              "      filter: drop-shadow(0px 1px 2px rgba(0, 0, 0, 0.3));\n",
              "      fill: #FFFFFF;\n",
              "    }\n",
              "  </style>\n",
              "\n",
              "      <script>\n",
              "        const buttonEl =\n",
              "          document.querySelector('#df-77fc85d9-8c6f-41a8-9190-5b3af36505ca button.colab-df-convert');\n",
              "        buttonEl.style.display =\n",
              "          google.colab.kernel.accessAllowed ? 'block' : 'none';\n",
              "\n",
              "        async function convertToInteractive(key) {\n",
              "          const element = document.querySelector('#df-77fc85d9-8c6f-41a8-9190-5b3af36505ca');\n",
              "          const dataTable =\n",
              "            await google.colab.kernel.invokeFunction('convertToInteractive',\n",
              "                                                     [key], {});\n",
              "          if (!dataTable) return;\n",
              "\n",
              "          const docLinkHtml = 'Like what you see? Visit the ' +\n",
              "            '<a target=\"_blank\" href=https://colab.research.google.com/notebooks/data_table.ipynb>data table notebook</a>'\n",
              "            + ' to learn more about interactive tables.';\n",
              "          element.innerHTML = '';\n",
              "          dataTable['output_type'] = 'display_data';\n",
              "          await google.colab.output.renderOutput(dataTable, element);\n",
              "          const docLink = document.createElement('div');\n",
              "          docLink.innerHTML = docLinkHtml;\n",
              "          element.appendChild(docLink);\n",
              "        }\n",
              "      </script>\n",
              "    </div>\n",
              "  </div>\n",
              "  "
            ]
          },
          "metadata": {},
          "execution_count": 112
        }
      ]
    },
    {
      "cell_type": "code",
      "source": [
        "def lemmatize(text):\n",
        "    lemmatizer = WordNetLemmatizer()\n",
        "    y = []\n",
        "    for i in text.split():\n",
        "      \n",
        "        y.append(lemmatizer.lemmatize(i))\n",
        "\n",
        "    return \" \".join(y)\n",
        "tqdm.pandas(desc=\"Lemmatizing...\")\n",
        "paper['tags']=paper['tags'].progress_apply(lemmatize)\n",
        "paper.head()"
      ],
      "metadata": {
        "colab": {
          "base_uri": "https://localhost:8080/",
          "height": 354
        },
        "id": "QNQupbKkkNPS",
        "outputId": "bc997839-5d35-4562-cb66-2219aab44335"
      },
      "execution_count": 113,
      "outputs": [
        {
          "output_type": "stream",
          "name": "stderr",
          "text": [
            "Lemmatizing...: 100%|██████████| 5000/5000 [08:10<00:00, 10.20it/s]\n"
          ]
        },
        {
          "output_type": "execute_result",
          "data": {
            "text/plain": [
              "          id                                            authors  \\\n",
              "0  0704.0001  C. Bal\\'azs, E. L. Berger, P. M. Nadolsky, C.-...   \n",
              "1  0704.0002                    Ileana Streinu and Louis Theran   \n",
              "2  0704.0003                                        Hongjun Pan   \n",
              "3  0704.0004                                       David Callan   \n",
              "4  0704.0005           Wael Abu-Shammala and Alberto Torchinsky   \n",
              "\n",
              "                                               title  \\\n",
              "0  calculation of prompt diphoton production cros...   \n",
              "1           sparsity-certifying graph decompositions   \n",
              "2  the evolution of the earth-moon system based o...   \n",
              "3  a determinant of stirling cycle numbers counts...   \n",
              "4  from dyadic $\\lambda_{\\alpha}$ to $\\lambda_{\\a...   \n",
              "\n",
              "                                            abstract  \\\n",
              "0    a fully differential calculation in perturba...   \n",
              "1    we describe a new algorithm, the $(k,\\ell)$-...   \n",
              "2    the evolution of earth-moon system is descri...   \n",
              "3    we show that a determinant of stirling cycle...   \n",
              "4    in this paper we show how to compute the $\\l...   \n",
              "\n",
              "                                                tags  \n",
              "0  calculation of prompt diphoton production cros...  \n",
              "1  sparsity-certifying graph decomposition we des...  \n",
              "2  the evolution of the earth-moon system based o...  \n",
              "3  a determinant of stirling cycle number count u...  \n",
              "4  from dyadic $\\lambda_{\\alpha}$ to $\\lambda_{\\a...  "
            ],
            "text/html": [
              "\n",
              "  <div id=\"df-ccc70d0a-29a1-47cd-8b75-e9413e9e7a0b\">\n",
              "    <div class=\"colab-df-container\">\n",
              "      <div>\n",
              "<style scoped>\n",
              "    .dataframe tbody tr th:only-of-type {\n",
              "        vertical-align: middle;\n",
              "    }\n",
              "\n",
              "    .dataframe tbody tr th {\n",
              "        vertical-align: top;\n",
              "    }\n",
              "\n",
              "    .dataframe thead th {\n",
              "        text-align: right;\n",
              "    }\n",
              "</style>\n",
              "<table border=\"1\" class=\"dataframe\">\n",
              "  <thead>\n",
              "    <tr style=\"text-align: right;\">\n",
              "      <th></th>\n",
              "      <th>id</th>\n",
              "      <th>authors</th>\n",
              "      <th>title</th>\n",
              "      <th>abstract</th>\n",
              "      <th>tags</th>\n",
              "    </tr>\n",
              "  </thead>\n",
              "  <tbody>\n",
              "    <tr>\n",
              "      <th>0</th>\n",
              "      <td>0704.0001</td>\n",
              "      <td>C. Bal\\'azs, E. L. Berger, P. M. Nadolsky, C.-...</td>\n",
              "      <td>calculation of prompt diphoton production cros...</td>\n",
              "      <td>a fully differential calculation in perturba...</td>\n",
              "      <td>calculation of prompt diphoton production cros...</td>\n",
              "    </tr>\n",
              "    <tr>\n",
              "      <th>1</th>\n",
              "      <td>0704.0002</td>\n",
              "      <td>Ileana Streinu and Louis Theran</td>\n",
              "      <td>sparsity-certifying graph decompositions</td>\n",
              "      <td>we describe a new algorithm, the $(k,\\ell)$-...</td>\n",
              "      <td>sparsity-certifying graph decomposition we des...</td>\n",
              "    </tr>\n",
              "    <tr>\n",
              "      <th>2</th>\n",
              "      <td>0704.0003</td>\n",
              "      <td>Hongjun Pan</td>\n",
              "      <td>the evolution of the earth-moon system based o...</td>\n",
              "      <td>the evolution of earth-moon system is descri...</td>\n",
              "      <td>the evolution of the earth-moon system based o...</td>\n",
              "    </tr>\n",
              "    <tr>\n",
              "      <th>3</th>\n",
              "      <td>0704.0004</td>\n",
              "      <td>David Callan</td>\n",
              "      <td>a determinant of stirling cycle numbers counts...</td>\n",
              "      <td>we show that a determinant of stirling cycle...</td>\n",
              "      <td>a determinant of stirling cycle number count u...</td>\n",
              "    </tr>\n",
              "    <tr>\n",
              "      <th>4</th>\n",
              "      <td>0704.0005</td>\n",
              "      <td>Wael Abu-Shammala and Alberto Torchinsky</td>\n",
              "      <td>from dyadic $\\lambda_{\\alpha}$ to $\\lambda_{\\a...</td>\n",
              "      <td>in this paper we show how to compute the $\\l...</td>\n",
              "      <td>from dyadic $\\lambda_{\\alpha}$ to $\\lambda_{\\a...</td>\n",
              "    </tr>\n",
              "  </tbody>\n",
              "</table>\n",
              "</div>\n",
              "      <button class=\"colab-df-convert\" onclick=\"convertToInteractive('df-ccc70d0a-29a1-47cd-8b75-e9413e9e7a0b')\"\n",
              "              title=\"Convert this dataframe to an interactive table.\"\n",
              "              style=\"display:none;\">\n",
              "        \n",
              "  <svg xmlns=\"http://www.w3.org/2000/svg\" height=\"24px\"viewBox=\"0 0 24 24\"\n",
              "       width=\"24px\">\n",
              "    <path d=\"M0 0h24v24H0V0z\" fill=\"none\"/>\n",
              "    <path d=\"M18.56 5.44l.94 2.06.94-2.06 2.06-.94-2.06-.94-.94-2.06-.94 2.06-2.06.94zm-11 1L8.5 8.5l.94-2.06 2.06-.94-2.06-.94L8.5 2.5l-.94 2.06-2.06.94zm10 10l.94 2.06.94-2.06 2.06-.94-2.06-.94-.94-2.06-.94 2.06-2.06.94z\"/><path d=\"M17.41 7.96l-1.37-1.37c-.4-.4-.92-.59-1.43-.59-.52 0-1.04.2-1.43.59L10.3 9.45l-7.72 7.72c-.78.78-.78 2.05 0 2.83L4 21.41c.39.39.9.59 1.41.59.51 0 1.02-.2 1.41-.59l7.78-7.78 2.81-2.81c.8-.78.8-2.07 0-2.86zM5.41 20L4 18.59l7.72-7.72 1.47 1.35L5.41 20z\"/>\n",
              "  </svg>\n",
              "      </button>\n",
              "      \n",
              "  <style>\n",
              "    .colab-df-container {\n",
              "      display:flex;\n",
              "      flex-wrap:wrap;\n",
              "      gap: 12px;\n",
              "    }\n",
              "\n",
              "    .colab-df-convert {\n",
              "      background-color: #E8F0FE;\n",
              "      border: none;\n",
              "      border-radius: 50%;\n",
              "      cursor: pointer;\n",
              "      display: none;\n",
              "      fill: #1967D2;\n",
              "      height: 32px;\n",
              "      padding: 0 0 0 0;\n",
              "      width: 32px;\n",
              "    }\n",
              "\n",
              "    .colab-df-convert:hover {\n",
              "      background-color: #E2EBFA;\n",
              "      box-shadow: 0px 1px 2px rgba(60, 64, 67, 0.3), 0px 1px 3px 1px rgba(60, 64, 67, 0.15);\n",
              "      fill: #174EA6;\n",
              "    }\n",
              "\n",
              "    [theme=dark] .colab-df-convert {\n",
              "      background-color: #3B4455;\n",
              "      fill: #D2E3FC;\n",
              "    }\n",
              "\n",
              "    [theme=dark] .colab-df-convert:hover {\n",
              "      background-color: #434B5C;\n",
              "      box-shadow: 0px 1px 3px 1px rgba(0, 0, 0, 0.15);\n",
              "      filter: drop-shadow(0px 1px 2px rgba(0, 0, 0, 0.3));\n",
              "      fill: #FFFFFF;\n",
              "    }\n",
              "  </style>\n",
              "\n",
              "      <script>\n",
              "        const buttonEl =\n",
              "          document.querySelector('#df-ccc70d0a-29a1-47cd-8b75-e9413e9e7a0b button.colab-df-convert');\n",
              "        buttonEl.style.display =\n",
              "          google.colab.kernel.accessAllowed ? 'block' : 'none';\n",
              "\n",
              "        async function convertToInteractive(key) {\n",
              "          const element = document.querySelector('#df-ccc70d0a-29a1-47cd-8b75-e9413e9e7a0b');\n",
              "          const dataTable =\n",
              "            await google.colab.kernel.invokeFunction('convertToInteractive',\n",
              "                                                     [key], {});\n",
              "          if (!dataTable) return;\n",
              "\n",
              "          const docLinkHtml = 'Like what you see? Visit the ' +\n",
              "            '<a target=\"_blank\" href=https://colab.research.google.com/notebooks/data_table.ipynb>data table notebook</a>'\n",
              "            + ' to learn more about interactive tables.';\n",
              "          element.innerHTML = '';\n",
              "          dataTable['output_type'] = 'display_data';\n",
              "          await google.colab.output.renderOutput(dataTable, element);\n",
              "          const docLink = document.createElement('div');\n",
              "          docLink.innerHTML = docLinkHtml;\n",
              "          element.appendChild(docLink);\n",
              "        }\n",
              "      </script>\n",
              "    </div>\n",
              "  </div>\n",
              "  "
            ]
          },
          "metadata": {},
          "execution_count": 113
        }
      ]
    },
    {
      "cell_type": "code",
      "source": [
        "cv=CountVectorizer(max_features=5000,stop_words='english')\n",
        "vectors_tag=cv.fit_transform(paper['tags']).toarray()\n",
        "vectors_tag"
      ],
      "metadata": {
        "colab": {
          "base_uri": "https://localhost:8080/"
        },
        "id": "2Gd1SDmCkNTd",
        "outputId": "72daf5d7-e269-4029-e460-35bc00a7fcb4"
      },
      "execution_count": 114,
      "outputs": [
        {
          "output_type": "execute_result",
          "data": {
            "text/plain": [
              "array([[0, 0, 0, ..., 0, 0, 0],\n",
              "       [0, 0, 0, ..., 0, 0, 0],\n",
              "       [0, 0, 0, ..., 0, 0, 0],\n",
              "       ...,\n",
              "       [0, 0, 0, ..., 0, 0, 0],\n",
              "       [0, 0, 0, ..., 0, 0, 0],\n",
              "       [0, 0, 0, ..., 0, 0, 0]])"
            ]
          },
          "metadata": {},
          "execution_count": 114
        }
      ]
    },
    {
      "cell_type": "code",
      "source": [
        "print(\"Enter the query\")\n",
        "query=input()"
      ],
      "metadata": {
        "colab": {
          "base_uri": "https://localhost:8080/"
        },
        "id": "tOk6L6MTkNUV",
        "outputId": "ea8a621c-06e3-4b6d-8cad-5ecf4e26b5c7"
      },
      "execution_count": 115,
      "outputs": [
        {
          "name": "stdout",
          "output_type": "stream",
          "text": [
            "Enter the query\n",
            "mimo detection\n"
          ]
        }
      ]
    },
    {
      "cell_type": "code",
      "source": [
        "# Pre-processing the query\n",
        "lemmatizer = WordNetLemmatizer()\n",
        "tokens = nltk.word_tokenize(query)\n",
        "lemmatized_query = [lemmatizer.lemmatize(token) for token in tokens]\n",
        "lemmatized_sentence = \" \".join(lemmatized_query)\n",
        "# print(lemmatized_sentence)"
      ],
      "metadata": {
        "id": "GenvftmMkNYY"
      },
      "execution_count": 116,
      "outputs": []
    },
    {
      "cell_type": "code",
      "source": [
        "# Vectorizing the query\n",
        "query_vector = cv.transform([lemmatized_sentence]).toarray()\n",
        "# print(query_vector)"
      ],
      "metadata": {
        "id": "u7Gtw6bukNZN"
      },
      "execution_count": 153,
      "outputs": []
    },
    {
      "cell_type": "code",
      "source": [
        "cos_similarities = cosine_similarity(query_vector, vectors_tag)\n",
        "\n",
        "no_of_results = 5\n",
        "similar_indices = cos_similarities.argsort()[0][-no_of_results:]\n",
        "\n",
        "a=0\n",
        "l_id=[]\n",
        "l_abstract=[]\n",
        "l_title=[]\n",
        "l_url=[]\n",
        "l_tags=[]\n",
        "for i in similar_indices:\n",
        "    id=paper['id'][i]\n",
        "    l_id.append(paper['id'][i])\n",
        "    l_title.append(paper['title'][i])\n",
        "    l_abstract.append(paper['abstract'][i])\n",
        "    l_tags.append(paper['tags'][i])\n",
        "    s=\"https://arxiv.org/pdf/\"+paper['id'][i]\n",
        "    l_url.append(s)"
      ],
      "metadata": {
        "id": "YTG6vvWXkNdC"
      },
      "execution_count": 154,
      "outputs": []
    },
    {
      "cell_type": "code",
      "source": [
        "print(\"Query is : \"+query)\n",
        "print()\n",
        "print(\"The recommended papers are: \")\n",
        "print()\n",
        "from tabulate import tabulate\n",
        "x=[]\n",
        "\n",
        "l_title=l_title[::-1]\n",
        "l_url=l_url[::-1]\n",
        "l_id=l_id[::-1]\n",
        "l_abstract=l_abstract[::-1]\n",
        "l_tags=l_tags[::-1]\n",
        "\n",
        "for i in range(len(l_title)):\n",
        "  l=[]\n",
        "  l.append(l_title[i])\n",
        "\n",
        "  \n",
        "  l.append(l_url[i])\n",
        "  x.append(l)\n",
        "\n",
        "\n",
        "head=[\"Title\",\"URL\"]\n",
        "print(tabulate(x, headers=head, tablefmt=\"grid\"))\n"
      ],
      "metadata": {
        "colab": {
          "base_uri": "https://localhost:8080/"
        },
        "id": "XxoGMV3ekNd6",
        "outputId": "a9ead4f0-230c-4061-db0e-b7dbf9e8ba97"
      },
      "execution_count": 155,
      "outputs": [
        {
          "output_type": "stream",
          "name": "stdout",
          "text": [
            "Query is : mimo detection\n",
            "\n",
            "The recommended papers are: \n",
            "\n",
            "+---------------------------------------------------------------------+---------------------------------+\n",
            "| Title                                                               | URL                             |\n",
            "+=====================================================================+=================================+\n",
            "| mimo detection employing markov chain monte carlo                   | https://arxiv.org/pdf/0705.0742 |\n",
            "+---------------------------------------------------------------------+---------------------------------+\n",
            "| rate bounds for mimo relay channels                                 | https://arxiv.org/pdf/0705.0564 |\n",
            "+---------------------------------------------------------------------+---------------------------------+\n",
            "| joint detection and identification of an unobservable change in the | https://arxiv.org/pdf/0705.0043 |\n",
            "|   distribution of a random sequence                                 |                                 |\n",
            "+---------------------------------------------------------------------+---------------------------------+\n",
            "| sample size cognizant detection of signals in white noise           | https://arxiv.org/pdf/0704.3287 |\n",
            "+---------------------------------------------------------------------+---------------------------------+\n",
            "| glrt-optimal noncoherent lattice decoding                           | https://arxiv.org/pdf/0704.1524 |\n",
            "+---------------------------------------------------------------------+---------------------------------+\n"
          ]
        }
      ]
    },
    {
      "cell_type": "code",
      "source": [
        "#EVALUATION USING 1 gram\n",
        "\n",
        "from nltk.translate.bleu_score import sentence_bleu\n",
        "print(\"-----------------EVALATION USING BLUE SCORE -----------------------------\")\n",
        "for i in similar_indices:\n",
        "  title = paper['title'][i]\n",
        "  score = sentence_bleu([lemmatized_query], title.split(), weights=(1, 0, 0, 0))\n",
        "  print(\"--------------------------------------------------\")\n",
        "  print(\"{}: {:.6f}\".format(title, score))"
      ],
      "metadata": {
        "colab": {
          "base_uri": "https://localhost:8080/"
        },
        "id": "3erQ4efEkNiE",
        "outputId": "bfc3b7a3-562b-41a6-b642-66516a037b80"
      },
      "execution_count": 120,
      "outputs": [
        {
          "output_type": "stream",
          "name": "stdout",
          "text": [
            "-----------------EVALATION USING BLUE SCORE -----------------------------\n",
            "--------------------------------------------------\n",
            "glrt-optimal noncoherent lattice decoding: 0.000000\n",
            "--------------------------------------------------\n",
            "sample size cognizant detection of signals in white noise: 0.111111\n",
            "--------------------------------------------------\n",
            "joint detection and identification of an unobservable change in the\n",
            "  distribution of a random sequence: 0.066667\n",
            "--------------------------------------------------\n",
            "rate bounds for mimo relay channels: 0.166667\n",
            "--------------------------------------------------\n",
            "mimo detection employing markov chain monte carlo: 0.285714\n"
          ]
        }
      ]
    },
    {
      "cell_type": "markdown",
      "source": [
        "# Text summarization"
      ],
      "metadata": {
        "id": "kouHLp4Pm1jt"
      }
    },
    {
      "cell_type": "code",
      "source": [
        "pip install PyPDF2"
      ],
      "metadata": {
        "colab": {
          "base_uri": "https://localhost:8080/"
        },
        "id": "ESg9UJDekNjB",
        "outputId": "a6e9f6a5-662e-4d28-c284-b91891618d2b"
      },
      "execution_count": 16,
      "outputs": [
        {
          "output_type": "stream",
          "name": "stdout",
          "text": [
            "Looking in indexes: https://pypi.org/simple, https://us-python.pkg.dev/colab-wheels/public/simple/\n",
            "Collecting PyPDF2\n",
            "  Downloading pypdf2-3.0.1-py3-none-any.whl (232 kB)\n",
            "\u001b[2K     \u001b[90m━━━━━━━━━━━━━━━━━━━━━━━━━━━━━━━━━━━━━━━\u001b[0m \u001b[32m232.6/232.6 kB\u001b[0m \u001b[31m4.6 MB/s\u001b[0m eta \u001b[36m0:00:00\u001b[0m\n",
            "\u001b[?25hRequirement already satisfied: typing_extensions>=3.10.0.0 in /usr/local/lib/python3.9/dist-packages (from PyPDF2) (4.5.0)\n",
            "Installing collected packages: PyPDF2\n",
            "Successfully installed PyPDF2-3.0.1\n"
          ]
        }
      ]
    },
    {
      "cell_type": "code",
      "source": [
        "pip install transformers"
      ],
      "metadata": {
        "colab": {
          "base_uri": "https://localhost:8080/"
        },
        "id": "Tk3XJCajncYc",
        "outputId": "237abdbd-56ee-4091-edd5-547d9723bbbf"
      },
      "execution_count": 47,
      "outputs": [
        {
          "output_type": "stream",
          "name": "stdout",
          "text": [
            "Looking in indexes: https://pypi.org/simple, https://us-python.pkg.dev/colab-wheels/public/simple/\n",
            "Requirement already satisfied: transformers in /usr/local/lib/python3.9/dist-packages (4.28.1)\n",
            "Requirement already satisfied: numpy>=1.17 in /usr/local/lib/python3.9/dist-packages (from transformers) (1.22.4)\n",
            "Requirement already satisfied: huggingface-hub<1.0,>=0.11.0 in /usr/local/lib/python3.9/dist-packages (from transformers) (0.13.4)\n",
            "Requirement already satisfied: requests in /usr/local/lib/python3.9/dist-packages (from transformers) (2.27.1)\n",
            "Requirement already satisfied: tqdm>=4.27 in /usr/local/lib/python3.9/dist-packages (from transformers) (4.65.0)\n",
            "Requirement already satisfied: tokenizers!=0.11.3,<0.14,>=0.11.1 in /usr/local/lib/python3.9/dist-packages (from transformers) (0.13.3)\n",
            "Requirement already satisfied: filelock in /usr/local/lib/python3.9/dist-packages (from transformers) (3.11.0)\n",
            "Requirement already satisfied: pyyaml>=5.1 in /usr/local/lib/python3.9/dist-packages (from transformers) (6.0)\n",
            "Requirement already satisfied: regex!=2019.12.17 in /usr/local/lib/python3.9/dist-packages (from transformers) (2022.10.31)\n",
            "Requirement already satisfied: packaging>=20.0 in /usr/local/lib/python3.9/dist-packages (from transformers) (23.1)\n",
            "Requirement already satisfied: typing-extensions>=3.7.4.3 in /usr/local/lib/python3.9/dist-packages (from huggingface-hub<1.0,>=0.11.0->transformers) (4.5.0)\n",
            "Requirement already satisfied: urllib3<1.27,>=1.21.1 in /usr/local/lib/python3.9/dist-packages (from requests->transformers) (1.26.15)\n",
            "Requirement already satisfied: certifi>=2017.4.17 in /usr/local/lib/python3.9/dist-packages (from requests->transformers) (2022.12.7)\n",
            "Requirement already satisfied: idna<4,>=2.5 in /usr/local/lib/python3.9/dist-packages (from requests->transformers) (3.4)\n",
            "Requirement already satisfied: charset-normalizer~=2.0.0 in /usr/local/lib/python3.9/dist-packages (from requests->transformers) (2.0.12)\n"
          ]
        }
      ]
    },
    {
      "cell_type": "code",
      "source": [
        "import re\n",
        "import os\n",
        "from PyPDF2 import PdfReader\n",
        "from transformers import pipeline \n",
        "import pandas as pd\n",
        "import shutil\n",
        "import spacy\n",
        "import textract\n",
        "import requests\n",
        "from bs4 import BeautifulSoup\n",
        "import xml.etree.ElementTree as ET\n",
        "import requests\n",
        "import en_core_web_sm\n",
        "import warnings\n",
        "warnings.filterwarnings('ignore')\n",
        "import spacy\n",
        "from spacy.lang.en.stop_words import STOP_WORDS\n",
        "from string import punctuation\n",
        "from heapq import nlargest"
      ],
      "metadata": {
        "id": "IzDKtZxOkNnM"
      },
      "execution_count": 121,
      "outputs": []
    },
    {
      "cell_type": "code",
      "source": [
        "def make_folder():\n",
        "  shutil.rmtree('/content/download_data/', ignore_errors=True)\n",
        "  os.mkdir(\"/content/download_data/\")"
      ],
      "metadata": {
        "id": "8P0FNg92kNoF"
      },
      "execution_count": 122,
      "outputs": []
    },
    {
      "cell_type": "code",
      "source": [
        "# Downloading the file chosen by the user\n",
        "def download_pdf_file(url: str) -> bool:\n",
        "  response = requests.get(url, stream=True)\n",
        "  pdf_file_name = os.path.basename(url)\n",
        "  if response.status_code == 200:\n",
        "    filepath = os.path.join(\"/content/download_data\", pdf_file_name)\n",
        "    with open(filepath, 'wb') as pdf_object:\n",
        "      pdf_object.write(response.content)\n",
        "      print(f'{pdf_file_name} was successfully saved!')\n",
        "      return True\n",
        "  else:\n",
        "    print(f'Error in downloading {pdf_file_name},')\n",
        "    print(f'HTTP response status code: {response.status_code}')\n",
        "    return False\n",
        "\n",
        "# if __name__ == '__main__':\n",
        "#   URL = 'https://arxiv.org/pdf/0704.0647.pdf'\n",
        "#   download_pdf_file(URL)"
      ],
      "metadata": {
        "id": "MYE4svhhkNsQ"
      },
      "execution_count": 123,
      "outputs": []
    },
    {
      "cell_type": "code",
      "source": [
        "final = []\n",
        "files = os.listdir('/content/download_data/')\n",
        "c=0\n",
        "for file in files:\n",
        "\n",
        "  # Open the PDF file\n",
        "  # pdf_file = open('0705.1309.pdf', 'rb')\n",
        "  pdf_reader = PdfReader('/content/download_data/'+file)\n",
        "  text = \"\"\n",
        "  num_pages = len(pdf_reader.pages)\n",
        "  # print(num_pages)\n",
        "  for i in range(num_pages):\n",
        "    page = pdf_reader.pages[i]\n",
        "    text += page.extract_text()\n",
        "\n",
        "  # Create an XML document\n",
        "  root = ET.Element('document')\n",
        "  for line in text.split('\\n'):\n",
        "    if line.strip() != '':\n",
        "      ET.SubElement(root, 'line').text = line\n",
        "\n",
        "  xml_file = open('example.xml', 'wb')\n",
        "  s=ET.tostring(root)\n",
        "  xml_file.write(ET.tostring(root))\n",
        "  xml_file.close()\n",
        "      "
      ],
      "metadata": {
        "id": "UwYXuAG-kNtL"
      },
      "execution_count": 124,
      "outputs": []
    },
    {
      "cell_type": "code",
      "source": [
        "# Load the language model\n",
        "nlp = spacy.load(\"en_core_web_sm\")\n",
        "\n",
        "# Function to extract text from a file\n",
        "def extract_text(filepath):\n",
        "    # Extract text from PDF or Word document\n",
        "    if filepath.endswith(\".pdf\") or filepath.endswith(\".doc\") or filepath.endswith(\".docx\"):\n",
        "        text = textract.process(filepath).decode(\"utf-8\")\n",
        "    # Extract text from HTML document\n",
        "    # elif filepath.endswith(\".html\") or filepath.endswith(\".htm\"):\n",
        "    #     html = requests.get(filepath).content\n",
        "    #     soup = BeautifulSoup(html, \"html.parser\")\n",
        "    #     text = soup.get_text()\n",
        "    # # Extract text from plain text file\n",
        "    # else:\n",
        "    #     with open(filepath) as f:\n",
        "    #         text = f.read()\n",
        "    # print(text)\n",
        "    return text"
      ],
      "metadata": {
        "id": "tdNAgkLAkNxa"
      },
      "execution_count": 125,
      "outputs": []
    },
    {
      "cell_type": "code",
      "source": [
        "def find_abstract(text):\n",
        "  for j in range(len(text)):\n",
        "    if \"Abstract\" in text[j] or \"ABSTRACT\" in text[j]:\n",
        "      return j\n",
        "  "
      ],
      "metadata": {
        "id": "wzxE30fRxDZG"
      },
      "execution_count": 126,
      "outputs": []
    },
    {
      "cell_type": "code",
      "source": [
        "def check_section_heading_length(index_abstract,matches):\n",
        "  out1=[]\n",
        "  for i in range(index_abstract,len(matches)):\n",
        "  \n",
        "    s=matches[i].split()\n",
        "    #print(s)\n",
        "    if len(s)<4:\n",
        "      # print(\"length\",end=\"  \")\n",
        "      # print(len(s),matches[i])\n",
        "      out1.append(matches[i])\n",
        "  return out1"
      ],
      "metadata": {
        "id": "GveC8i5VxeMJ"
      },
      "execution_count": 127,
      "outputs": []
    },
    {
      "cell_type": "code",
      "source": [
        "def check_first_lower(out1):\n",
        "  out2=[]\n",
        "  for i in range(len(out1)):\n",
        "    if out1[i][0].islower()==False:\n",
        "        # print(\"lower\",end=\"  \")\n",
        "        # print(len(s),i)\n",
        "        #print(f[i])\n",
        "        out2.append(out1[i])\n",
        "  return out2"
      ],
      "metadata": {
        "id": "3q7_5WdVyCrH"
      },
      "execution_count": 128,
      "outputs": []
    },
    {
      "cell_type": "code",
      "source": [
        "def isfloat(num):\n",
        "  try:\n",
        "    float(num)\n",
        "    return True\n",
        "  except ValueError:\n",
        "    return False"
      ],
      "metadata": {
        "id": "BRZn61BzzGgq"
      },
      "execution_count": 129,
      "outputs": []
    },
    {
      "cell_type": "code",
      "source": [
        "def is_numeric(out2):\n",
        "  out3=[]\n",
        "  for i in range(len(out2)):\n",
        "    if out2[i].isdigit()==False and isfloat(out2[i])==False:\n",
        "      #print(i)\n",
        "      out3.append(out2[i])\n",
        "  return out3"
      ],
      "metadata": {
        "id": "qNBladGYym3W"
      },
      "execution_count": 130,
      "outputs": []
    },
    {
      "cell_type": "code",
      "source": [
        "def check_length(out3):\n",
        "    out4=[]\n",
        "    for i in range(len(out3)):\n",
        "      if len(out3[i])>3:\n",
        "        #print(i)\n",
        "        out4.append(out3[i])\n",
        "    return out4"
      ],
      "metadata": {
        "id": "Jisydt5NzOdM"
      },
      "execution_count": 131,
      "outputs": []
    },
    {
      "cell_type": "code",
      "source": [
        "def special_char_removal(out4):\n",
        "  out5=[]\n",
        "  for i in range(len(out4)):\n",
        "    s = re.sub('[^.a-zA-Z0-9 \\n\\.]', '', out4[i])\n",
        "    if len(out4[i])==len(s):\n",
        "      out5.append(out4[i])\n",
        "  return out5"
      ],
      "metadata": {
        "id": "0LLN0DSLzhyt"
      },
      "execution_count": 132,
      "outputs": []
    },
    {
      "cell_type": "code",
      "source": [
        "def extract():\n",
        "  final = []\n",
        "  files = os.listdir('/content/download_data/')\n",
        "  c=0\n",
        "  for file in files:\n",
        "\n",
        "    # Open the PDF file\n",
        "    # pdf_file = open('0705.1309.pdf', 'rb')\n",
        "    pdf_reader = PdfReader('/content/download_data/'+file)\n",
        "    text = \"\"\n",
        "    num_pages = len(pdf_reader.pages)\n",
        "    # print(num_pages)\n",
        "    for i in range(num_pages):\n",
        "      page = pdf_reader.pages[i]\n",
        "      text += page.extract_text()\n",
        "\n",
        "    # Create an XML document\n",
        "    root = ET.Element('document')\n",
        "    for line in text.split('\\n'):\n",
        "      if line.strip() != '':\n",
        "        ET.SubElement(root, 'line').text = line\n",
        "\n",
        "    xml_file = open('example.xml', 'wb')\n",
        "    s=ET.tostring(root)\n",
        "    xml_file.write(ET.tostring(root))\n",
        "    xml_file.close()\n",
        "    return s"
      ],
      "metadata": {
        "id": "DtpozTcO6zHY"
      },
      "execution_count": 133,
      "outputs": []
    },
    {
      "cell_type": "code",
      "source": [
        "def extractive_summarize(text, per):\n",
        "    nlp = spacy.load('en_core_web_sm')\n",
        "    doc= nlp(text)\n",
        "    tokens=[token.text for token in doc]\n",
        "    wf={}\n",
        "    for word in doc:\n",
        "        if word.text.lower() not in list(STOP_WORDS):\n",
        "            if word.text.lower() not in punctuation:\n",
        "                if word.text not in wf.keys():\n",
        "                    wf[word.text] = 1\n",
        "                else:\n",
        "                    wf[word.text] += 1\n",
        "    f=max(wf.values())\n",
        "    #normalize\n",
        "    for word in wf.keys():\n",
        "        wf[word]=wf[word]/f\n",
        "    s= [sent for sent in doc.sents]\n",
        "    score = {}\n",
        "    for sent in s:\n",
        "        for word in sent:\n",
        "            if word.text.lower() in wf.keys():\n",
        "                if sent not in score.keys():                            \n",
        "                    score[sent]=wf[word.text.lower()]\n",
        "                else:\n",
        "                    score[sent]+=wf[word.text.lower()]\n",
        "    select_length=int(len(s)*per)\n",
        "    summary=nlargest(select_length, score,key=score.get)\n",
        "    final_summary=[word.text for word in summary]\n",
        "    summary=''.join(final_summary)\n",
        "    return summary"
      ],
      "metadata": {
        "id": "R6NP4W4W7-Do"
      },
      "execution_count": 134,
      "outputs": []
    },
    {
      "cell_type": "code",
      "source": [
        "def extract_section_text(s,section_names):\n",
        "  full_summary=\"\"\n",
        "  for i in range(len(section_names)-1):\n",
        "    \n",
        "    f1=s.find(section_names[i])\n",
        "    f2=s.find(section_names[i+1])\n",
        "    if f1==-1 or f2==-1 or f2<=f1:\n",
        "      continue\n",
        "    # print(f1,f2)\n",
        "    # print(f1,f2)\n",
        "    r=s[f1+1:f2]\n",
        "    l=r.split(\"</line><line>\")\n",
        "    sec=' '.join(l)\n",
        "    # sec[len(section_names[i])+1:]\n",
        "    part_summary = extractive_summarize(sec,0.3)\n",
        "    # print(part_summary)\n",
        "    full_summary = full_summary + \" \" + part_summary\n",
        "  return full_summary"
      ],
      "metadata": {
        "id": "pQpUSDa4kN2Z"
      },
      "execution_count": 136,
      "outputs": []
    },
    {
      "cell_type": "code",
      "source": [
        "l_summaries=[]\n",
        "for i in l_id:\n",
        "  try:\n",
        "    make_folder()\n",
        "    URL = 'https://arxiv.org/pdf/'+i+'.pdf'\n",
        "    download_pdf_file(URL)\n",
        "    filepath='/content/download_data/'+i+'.pdf'\n",
        "    text=extract_text(filepath)\n",
        "    pattern = r\"\\n(.+)\\n\"\n",
        "    matches = re.findall(pattern, text)\n",
        "    index_abstract=find_abstract(matches)\n",
        "\n",
        "    out1=check_section_heading_length(index_abstract,matches)\n",
        "    # print(\"out1  \",out1)\n",
        "    # print(\"________________________________\")\n",
        "\n",
        "    out2=check_first_lower(out1)\n",
        "    # print(\"out2  \",out2)\n",
        "    # print(\"________________________________\")\n",
        "\n",
        "    out3=is_numeric(out2)\n",
        "    # print(\"out3  \",out3)\n",
        "    # print(\"________________________________\")\n",
        "\n",
        "    out4=check_length(out3)\n",
        "    # print(\"out4  \",out4)\n",
        "    # print(\"________________________________\")\n",
        "\n",
        "    out5=special_char_removal(out4)\n",
        "    # print(\"out5  \",out5)\n",
        "    # print(\"________________________________\")\n",
        "    \n",
        "    s=extract()\n",
        "    s=str(s)\n",
        "    # print(l)\n",
        "    section_names=out5\n",
        "    # print(len(s),len(section_names))\n",
        "    full_summary = extract_section_text(s,section_names)\n",
        "    # print(full_summary)\n",
        "    l_summaries.append(full_summary)\n",
        "  except:\n",
        "    l_summaries.append(' ')\n",
        "    continue"
      ],
      "metadata": {
        "colab": {
          "base_uri": "https://localhost:8080/"
        },
        "id": "UvZVSd4ukNzs",
        "outputId": "ee467881-fd3b-4ec6-db7f-07f88b1d2ce4"
      },
      "execution_count": 137,
      "outputs": [
        {
          "output_type": "stream",
          "name": "stdout",
          "text": [
            "0705.0742.pdf was successfully saved!\n",
            "0705.0564.pdf was successfully saved!\n",
            "0705.0043.pdf was successfully saved!\n",
            "0704.3287.pdf was successfully saved!\n",
            "0704.1524.pdf was successfully saved!\n"
          ]
        }
      ]
    },
    {
      "cell_type": "code",
      "source": [
        "l_id"
      ],
      "metadata": {
        "colab": {
          "base_uri": "https://localhost:8080/"
        },
        "id": "GTLKpi34D2XF",
        "outputId": "4e954f72-dd5b-400b-c323-1ea61b7c931b"
      },
      "execution_count": 156,
      "outputs": [
        {
          "output_type": "execute_result",
          "data": {
            "text/plain": [
              "['0705.0742', '0705.0564', '0705.0043', '0704.3287', '0704.1524']"
            ]
          },
          "metadata": {},
          "execution_count": 156
        }
      ]
    },
    {
      "cell_type": "code",
      "source": [
        "summary_df=pd.DataFrame()\n",
        "summary_df['id']=l_id\n",
        "summary_df['title']=l_title\n",
        "summary_df['abstract']=l_abstract\n",
        "summary_df['tags']=l_tags\n",
        "summary_df['summary']=l_summaries\n",
        "# summary_df.head()"
      ],
      "metadata": {
        "id": "jLNa0Jj2kN8g"
      },
      "execution_count": 157,
      "outputs": []
    },
    {
      "cell_type": "code",
      "source": [
        "tqdm.pandas(desc=\"Lemmatizing...\")\n",
        "summary_df['summary']=summary_df['summary'].progress_apply(lemmatize)"
      ],
      "metadata": {
        "colab": {
          "base_uri": "https://localhost:8080/"
        },
        "id": "PXdEkvrEkOAZ",
        "outputId": "9bd3a83f-feb1-4a6e-ca44-867aa26a6f3e"
      },
      "execution_count": 158,
      "outputs": [
        {
          "output_type": "stream",
          "name": "stderr",
          "text": [
            "Lemmatizing...: 100%|██████████| 5/5 [00:00<00:00, 57.00it/s]\n"
          ]
        }
      ]
    },
    {
      "cell_type": "code",
      "source": [
        "summary_df['tags2'] =summary_df['tags']+summary_df['summary']"
      ],
      "metadata": {
        "id": "1hq5reSnkOBf"
      },
      "execution_count": 162,
      "outputs": []
    },
    {
      "cell_type": "code",
      "source": [
        "summary_df.head()"
      ],
      "metadata": {
        "colab": {
          "base_uri": "https://localhost:8080/",
          "height": 337
        },
        "id": "zcQvxec1EWqh",
        "outputId": "4f21ecdf-ad20-46ac-8f4b-d00c11139205"
      },
      "execution_count": 167,
      "outputs": [
        {
          "output_type": "execute_result",
          "data": {
            "text/plain": [
              "          id                                              title  \\\n",
              "0  0705.0742  mimo detection employing markov chain monte carlo   \n",
              "1  0705.0564                rate bounds for mimo relay channels   \n",
              "2  0705.0043  joint detection and identification of an unobs...   \n",
              "3  0704.3287  sample size cognizant detection of signals in ...   \n",
              "4  0704.1524          glrt-optimal noncoherent lattice decoding   \n",
              "\n",
              "                                            abstract  \\\n",
              "0    we propose a soft-output detection scheme fo...   \n",
              "1    this paper considers the multi-input multi-o...   \n",
              "2    this paper examines the joint problem of det...   \n",
              "3    the detection and estimation of signals in n...   \n",
              "4    this paper presents new low-complexity latti...   \n",
              "\n",
              "                                                tags  \\\n",
              "0  mimo detection employing markov chain monte ca...   \n",
              "1  rate bound for mimo relay channel this paper c...   \n",
              "2  joint detection and identification of an unobs...   \n",
              "3  sample size cognizant detection of signal in w...   \n",
              "4  glrt-optimal noncoherent lattice decoding this...   \n",
              "\n",
              "                                             summary  \\\n",
              "0                                                      \n",
              "1  Compared to single-input single-output ( SISO)...   \n",
              "2  While raising an alarm a soon a the change occ...   \n",
              "3  Wepresentacomputationallysim- ple, sample eige...   \n",
              "4  bstract This paper present new low-complexity ...   \n",
              "\n",
              "                                               tags2  \n",
              "0  mimo detection employing markov chain monte ca...  \n",
              "1  rate bound for mimo relay channel this paper c...  \n",
              "2  joint detection and identification of an unobs...  \n",
              "3  sample size cognizant detection of signal in w...  \n",
              "4  glrt-optimal noncoherent lattice decoding this...  "
            ],
            "text/html": [
              "\n",
              "  <div id=\"df-5108cd7e-7d63-428f-9046-bbbabf63c70b\">\n",
              "    <div class=\"colab-df-container\">\n",
              "      <div>\n",
              "<style scoped>\n",
              "    .dataframe tbody tr th:only-of-type {\n",
              "        vertical-align: middle;\n",
              "    }\n",
              "\n",
              "    .dataframe tbody tr th {\n",
              "        vertical-align: top;\n",
              "    }\n",
              "\n",
              "    .dataframe thead th {\n",
              "        text-align: right;\n",
              "    }\n",
              "</style>\n",
              "<table border=\"1\" class=\"dataframe\">\n",
              "  <thead>\n",
              "    <tr style=\"text-align: right;\">\n",
              "      <th></th>\n",
              "      <th>id</th>\n",
              "      <th>title</th>\n",
              "      <th>abstract</th>\n",
              "      <th>tags</th>\n",
              "      <th>summary</th>\n",
              "      <th>tags2</th>\n",
              "    </tr>\n",
              "  </thead>\n",
              "  <tbody>\n",
              "    <tr>\n",
              "      <th>0</th>\n",
              "      <td>0705.0742</td>\n",
              "      <td>mimo detection employing markov chain monte carlo</td>\n",
              "      <td>we propose a soft-output detection scheme fo...</td>\n",
              "      <td>mimo detection employing markov chain monte ca...</td>\n",
              "      <td></td>\n",
              "      <td>mimo detection employing markov chain monte ca...</td>\n",
              "    </tr>\n",
              "    <tr>\n",
              "      <th>1</th>\n",
              "      <td>0705.0564</td>\n",
              "      <td>rate bounds for mimo relay channels</td>\n",
              "      <td>this paper considers the multi-input multi-o...</td>\n",
              "      <td>rate bound for mimo relay channel this paper c...</td>\n",
              "      <td>Compared to single-input single-output ( SISO)...</td>\n",
              "      <td>rate bound for mimo relay channel this paper c...</td>\n",
              "    </tr>\n",
              "    <tr>\n",
              "      <th>2</th>\n",
              "      <td>0705.0043</td>\n",
              "      <td>joint detection and identification of an unobs...</td>\n",
              "      <td>this paper examines the joint problem of det...</td>\n",
              "      <td>joint detection and identification of an unobs...</td>\n",
              "      <td>While raising an alarm a soon a the change occ...</td>\n",
              "      <td>joint detection and identification of an unobs...</td>\n",
              "    </tr>\n",
              "    <tr>\n",
              "      <th>3</th>\n",
              "      <td>0704.3287</td>\n",
              "      <td>sample size cognizant detection of signals in ...</td>\n",
              "      <td>the detection and estimation of signals in n...</td>\n",
              "      <td>sample size cognizant detection of signal in w...</td>\n",
              "      <td>Wepresentacomputationallysim- ple, sample eige...</td>\n",
              "      <td>sample size cognizant detection of signal in w...</td>\n",
              "    </tr>\n",
              "    <tr>\n",
              "      <th>4</th>\n",
              "      <td>0704.1524</td>\n",
              "      <td>glrt-optimal noncoherent lattice decoding</td>\n",
              "      <td>this paper presents new low-complexity latti...</td>\n",
              "      <td>glrt-optimal noncoherent lattice decoding this...</td>\n",
              "      <td>bstract This paper present new low-complexity ...</td>\n",
              "      <td>glrt-optimal noncoherent lattice decoding this...</td>\n",
              "    </tr>\n",
              "  </tbody>\n",
              "</table>\n",
              "</div>\n",
              "      <button class=\"colab-df-convert\" onclick=\"convertToInteractive('df-5108cd7e-7d63-428f-9046-bbbabf63c70b')\"\n",
              "              title=\"Convert this dataframe to an interactive table.\"\n",
              "              style=\"display:none;\">\n",
              "        \n",
              "  <svg xmlns=\"http://www.w3.org/2000/svg\" height=\"24px\"viewBox=\"0 0 24 24\"\n",
              "       width=\"24px\">\n",
              "    <path d=\"M0 0h24v24H0V0z\" fill=\"none\"/>\n",
              "    <path d=\"M18.56 5.44l.94 2.06.94-2.06 2.06-.94-2.06-.94-.94-2.06-.94 2.06-2.06.94zm-11 1L8.5 8.5l.94-2.06 2.06-.94-2.06-.94L8.5 2.5l-.94 2.06-2.06.94zm10 10l.94 2.06.94-2.06 2.06-.94-2.06-.94-.94-2.06-.94 2.06-2.06.94z\"/><path d=\"M17.41 7.96l-1.37-1.37c-.4-.4-.92-.59-1.43-.59-.52 0-1.04.2-1.43.59L10.3 9.45l-7.72 7.72c-.78.78-.78 2.05 0 2.83L4 21.41c.39.39.9.59 1.41.59.51 0 1.02-.2 1.41-.59l7.78-7.78 2.81-2.81c.8-.78.8-2.07 0-2.86zM5.41 20L4 18.59l7.72-7.72 1.47 1.35L5.41 20z\"/>\n",
              "  </svg>\n",
              "      </button>\n",
              "      \n",
              "  <style>\n",
              "    .colab-df-container {\n",
              "      display:flex;\n",
              "      flex-wrap:wrap;\n",
              "      gap: 12px;\n",
              "    }\n",
              "\n",
              "    .colab-df-convert {\n",
              "      background-color: #E8F0FE;\n",
              "      border: none;\n",
              "      border-radius: 50%;\n",
              "      cursor: pointer;\n",
              "      display: none;\n",
              "      fill: #1967D2;\n",
              "      height: 32px;\n",
              "      padding: 0 0 0 0;\n",
              "      width: 32px;\n",
              "    }\n",
              "\n",
              "    .colab-df-convert:hover {\n",
              "      background-color: #E2EBFA;\n",
              "      box-shadow: 0px 1px 2px rgba(60, 64, 67, 0.3), 0px 1px 3px 1px rgba(60, 64, 67, 0.15);\n",
              "      fill: #174EA6;\n",
              "    }\n",
              "\n",
              "    [theme=dark] .colab-df-convert {\n",
              "      background-color: #3B4455;\n",
              "      fill: #D2E3FC;\n",
              "    }\n",
              "\n",
              "    [theme=dark] .colab-df-convert:hover {\n",
              "      background-color: #434B5C;\n",
              "      box-shadow: 0px 1px 3px 1px rgba(0, 0, 0, 0.15);\n",
              "      filter: drop-shadow(0px 1px 2px rgba(0, 0, 0, 0.3));\n",
              "      fill: #FFFFFF;\n",
              "    }\n",
              "  </style>\n",
              "\n",
              "      <script>\n",
              "        const buttonEl =\n",
              "          document.querySelector('#df-5108cd7e-7d63-428f-9046-bbbabf63c70b button.colab-df-convert');\n",
              "        buttonEl.style.display =\n",
              "          google.colab.kernel.accessAllowed ? 'block' : 'none';\n",
              "\n",
              "        async function convertToInteractive(key) {\n",
              "          const element = document.querySelector('#df-5108cd7e-7d63-428f-9046-bbbabf63c70b');\n",
              "          const dataTable =\n",
              "            await google.colab.kernel.invokeFunction('convertToInteractive',\n",
              "                                                     [key], {});\n",
              "          if (!dataTable) return;\n",
              "\n",
              "          const docLinkHtml = 'Like what you see? Visit the ' +\n",
              "            '<a target=\"_blank\" href=https://colab.research.google.com/notebooks/data_table.ipynb>data table notebook</a>'\n",
              "            + ' to learn more about interactive tables.';\n",
              "          element.innerHTML = '';\n",
              "          dataTable['output_type'] = 'display_data';\n",
              "          await google.colab.output.renderOutput(dataTable, element);\n",
              "          const docLink = document.createElement('div');\n",
              "          docLink.innerHTML = docLinkHtml;\n",
              "          element.appendChild(docLink);\n",
              "        }\n",
              "      </script>\n",
              "    </div>\n",
              "  </div>\n",
              "  "
            ]
          },
          "metadata": {},
          "execution_count": 167
        }
      ]
    },
    {
      "cell_type": "code",
      "source": [
        "cv2=CountVectorizer(max_features=300,stop_words='english')\n",
        "vectors_tag2=cv2.fit_transform(summary_df['tags2']).toarray()"
      ],
      "metadata": {
        "id": "xEU0MqtLkOF8"
      },
      "execution_count": 174,
      "outputs": []
    },
    {
      "cell_type": "code",
      "source": [
        "query_vector2 = cv2.transform([lemmatized_sentence]).toarray()"
      ],
      "metadata": {
        "id": "cmCvEBS5cCCn"
      },
      "execution_count": 175,
      "outputs": []
    },
    {
      "cell_type": "code",
      "source": [
        "cos_similarities = cosine_similarity(query_vector2, vectors_tag2)\n",
        "\n",
        "no_of_results = 5\n",
        "similar_indices = cos_similarities.argsort()[0][-no_of_results:]\n",
        "\n",
        "a=0\n",
        "l_id2=[]\n",
        "l_abstract2=[]\n",
        "l_title2=[]\n",
        "l_url2=[]\n",
        "l_tags2=[]\n",
        "for i in similar_indices:\n",
        "    id=summary_df['id'][i]\n",
        "    l_id2.append(summary_df['id'][i])\n",
        "    l_title2.append(summary_df['title'][i])\n",
        "    l_abstract2.append(summary_df['abstract'][i])\n",
        "    l_tags2.append(summary_df['tags2'][i])\n",
        "    s=\"https://arxiv.org/pdf/\"+summary_df['id'][i]\n",
        "    l_url2.append(s)"
      ],
      "metadata": {
        "id": "ZYRXvesWUtoi"
      },
      "execution_count": 179,
      "outputs": []
    },
    {
      "cell_type": "code",
      "source": [
        "print(\"Query is : \"+query)\n",
        "print()\n",
        "print(\"The recommended papers are: \")\n",
        "print()\n",
        "from tabulate import tabulate\n",
        "x=[]\n",
        "\n",
        "\n",
        "for i in range(len(l_title)):\n",
        "  l=[]\n",
        "  l.append(l_title2[i])\n",
        "  l.append(l_url2[i])\n",
        "  x.append(l)\n",
        "\n",
        "\n",
        "head=[\"Title\",\"URL\"]\n",
        "print(tabulate(x, headers=head, tablefmt=\"grid\"))\n"
      ],
      "metadata": {
        "colab": {
          "base_uri": "https://localhost:8080/"
        },
        "id": "ORje3SfHUtph",
        "outputId": "c6512c39-ce00-4e86-fe6e-dfdde8f6fa7f"
      },
      "execution_count": 180,
      "outputs": [
        {
          "output_type": "stream",
          "name": "stdout",
          "text": [
            "Query is : mimo detection\n",
            "\n",
            "The recommended papers are: \n",
            "\n",
            "+---------------------------------------------------------------------+---------------------------------+\n",
            "| Title                                                               | URL                             |\n",
            "+=====================================================================+=================================+\n",
            "| glrt-optimal noncoherent lattice decoding                           | https://arxiv.org/pdf/0704.1524 |\n",
            "+---------------------------------------------------------------------+---------------------------------+\n",
            "| rate bounds for mimo relay channels                                 | https://arxiv.org/pdf/0705.0564 |\n",
            "+---------------------------------------------------------------------+---------------------------------+\n",
            "| sample size cognizant detection of signals in white noise           | https://arxiv.org/pdf/0704.3287 |\n",
            "+---------------------------------------------------------------------+---------------------------------+\n",
            "| joint detection and identification of an unobservable change in the | https://arxiv.org/pdf/0705.0043 |\n",
            "|   distribution of a random sequence                                 |                                 |\n",
            "+---------------------------------------------------------------------+---------------------------------+\n",
            "| mimo detection employing markov chain monte carlo                   | https://arxiv.org/pdf/0705.0742 |\n",
            "+---------------------------------------------------------------------+---------------------------------+\n"
          ]
        }
      ]
    },
    {
      "cell_type": "code",
      "source": [
        "print(\"Please enter the index of paper you want to read\")\n",
        "n=int(input())"
      ],
      "metadata": {
        "colab": {
          "base_uri": "https://localhost:8080/"
        },
        "id": "t-qRPL3pUtwa",
        "outputId": "cc148e6c-f36f-411d-cfdd-d408d7e7ee6c"
      },
      "execution_count": 182,
      "outputs": [
        {
          "name": "stdout",
          "output_type": "stream",
          "text": [
            "Please enter the index of paper you want to read\n",
            "5\n"
          ]
        }
      ]
    },
    {
      "cell_type": "code",
      "source": [
        "pip install transformers"
      ],
      "metadata": {
        "colab": {
          "base_uri": "https://localhost:8080/"
        },
        "id": "4pc7xhV4pCok",
        "outputId": "1a62a8c3-a9a0-4bee-8c83-70623325e366"
      },
      "execution_count": 34,
      "outputs": [
        {
          "output_type": "stream",
          "name": "stdout",
          "text": [
            "Looking in indexes: https://pypi.org/simple, https://us-python.pkg.dev/colab-wheels/public/simple/\n",
            "Collecting transformers\n",
            "  Downloading transformers-4.28.1-py3-none-any.whl (7.0 MB)\n",
            "\u001b[2K     \u001b[90m━━━━━━━━━━━━━━━━━━━━━━━━━━━━━━━━━━━━━━━━\u001b[0m \u001b[32m7.0/7.0 MB\u001b[0m \u001b[31m45.1 MB/s\u001b[0m eta \u001b[36m0:00:00\u001b[0m\n",
            "\u001b[?25hRequirement already satisfied: regex!=2019.12.17 in /usr/local/lib/python3.9/dist-packages (from transformers) (2022.10.31)\n",
            "Requirement already satisfied: numpy>=1.17 in /usr/local/lib/python3.9/dist-packages (from transformers) (1.22.4)\n",
            "Collecting huggingface-hub<1.0,>=0.11.0\n",
            "  Downloading huggingface_hub-0.13.4-py3-none-any.whl (200 kB)\n",
            "\u001b[2K     \u001b[90m━━━━━━━━━━━━━━━━━━━━━━━━━━━━━━━━━━━━━━\u001b[0m \u001b[32m200.1/200.1 kB\u001b[0m \u001b[31m20.8 MB/s\u001b[0m eta \u001b[36m0:00:00\u001b[0m\n",
            "\u001b[?25hRequirement already satisfied: requests in /usr/local/lib/python3.9/dist-packages (from transformers) (2.27.1)\n",
            "Requirement already satisfied: packaging>=20.0 in /usr/local/lib/python3.9/dist-packages (from transformers) (23.1)\n",
            "Collecting tokenizers!=0.11.3,<0.14,>=0.11.1\n",
            "  Downloading tokenizers-0.13.3-cp39-cp39-manylinux_2_17_x86_64.manylinux2014_x86_64.whl (7.8 MB)\n",
            "\u001b[2K     \u001b[90m━━━━━━━━━━━━━━━━━━━━━━━━━━━━━━━━━━━━━━━━\u001b[0m \u001b[32m7.8/7.8 MB\u001b[0m \u001b[31m72.1 MB/s\u001b[0m eta \u001b[36m0:00:00\u001b[0m\n",
            "\u001b[?25hRequirement already satisfied: tqdm>=4.27 in /usr/local/lib/python3.9/dist-packages (from transformers) (4.65.0)\n",
            "Requirement already satisfied: filelock in /usr/local/lib/python3.9/dist-packages (from transformers) (3.11.0)\n",
            "Requirement already satisfied: pyyaml>=5.1 in /usr/local/lib/python3.9/dist-packages (from transformers) (6.0)\n",
            "Requirement already satisfied: typing-extensions>=3.7.4.3 in /usr/local/lib/python3.9/dist-packages (from huggingface-hub<1.0,>=0.11.0->transformers) (4.5.0)\n",
            "Requirement already satisfied: idna<4,>=2.5 in /usr/local/lib/python3.9/dist-packages (from requests->transformers) (3.4)\n",
            "Requirement already satisfied: charset-normalizer~=2.0.0 in /usr/local/lib/python3.9/dist-packages (from requests->transformers) (2.0.12)\n",
            "Requirement already satisfied: certifi>=2017.4.17 in /usr/local/lib/python3.9/dist-packages (from requests->transformers) (2022.12.7)\n",
            "Requirement already satisfied: urllib3<1.27,>=1.21.1 in /usr/local/lib/python3.9/dist-packages (from requests->transformers) (1.26.15)\n",
            "Installing collected packages: tokenizers, huggingface-hub, transformers\n",
            "Successfully installed huggingface-hub-0.13.4 tokenizers-0.13.3 transformers-4.28.1\n"
          ]
        }
      ]
    },
    {
      "cell_type": "code",
      "source": [
        "from transformers import pipeline "
      ],
      "metadata": {
        "id": "8ZDOehvXo9Bk"
      },
      "execution_count": 35,
      "outputs": []
    },
    {
      "cell_type": "code",
      "source": [
        "summarizer = pipeline(\"summarization\", model=\"facebook/bart-large-cnn\")\n",
        "# print(l_summaries[int(n)-1])\n",
        "# summary_of_chosen=l_summaries[n-1].split()\n",
        "# length_of_summary=len(summary_of_chosen)\n",
        "# print(summarizer(l_summaries[4][1000:], min_length=200, max_length=400,do_sample=False))\n",
        "ss=l_summaries[4]\n",
        "\n",
        "x=(summarizer(ss[:1020], min_length=400, max_length=800,do_sample=False))"
      ],
      "metadata": {
        "colab": {
          "base_uri": "https://localhost:8080/"
        },
        "id": "-SjjM_gqc1xd",
        "outputId": "4bd2df81-b0f8-410e-af39-64a0a541b009"
      },
      "execution_count": 184,
      "outputs": [
        {
          "output_type": "stream",
          "name": "stderr",
          "text": [
            "Your max_length is set to 800, but you input_length is only 238. You might consider decreasing max_length manually, e.g. summarizer('...', max_length=119)\n"
          ]
        }
      ]
    },
    {
      "cell_type": "code",
      "source": [
        "x[0]['summary_text']"
      ],
      "metadata": {
        "colab": {
          "base_uri": "https://localhost:8080/",
          "height": 139
        },
        "id": "9J0Oj5AEqNXX",
        "outputId": "1f9c0db4-bb60-474c-d8f9-f0e083ee4e99"
      },
      "execution_count": 185,
      "outputs": [
        {
          "output_type": "execute_result",
          "data": {
            "text/plain": [
              "'The computational complexit y ispolynomial in the block length; making GLRT-optimal noncoherent detection feasible for implementation. For the case of the constant envelope PSK constellation, a de tection algorithm with complexity O(TlogT) was developed in [18,19] (where Tis the blocklength) We then consider the more practical case of M-ary QAM detection over complex-valued fading channels, an d show that in this case the GLRT\\xa0optimal\\xa0codeword estimate is the closest codeword in angle to a planedescribed by the received vector. We conclude by showing that standard modulation techniques such as quadrature amplitude modulation (QAM) can be used to detect PAM signals over complex fading channels. The paper is published in the open-access journal arXiv:\\xa0http://www.arxiv.org/2013/01061/arXiv-PAM-Detecting-QAM-Signals-Over-Complex-valued-Fading-Channels.html#storylink=cpy. We also present a new low-complexity lattice-decoding a lgorithms for non-coherent block detection of PAM and QAM signals. The algorithm can provide the optimal data esti mate over an unknown non coherent fading channel, in terms of the Generalized Lik elihood Ratio Test (GLRT) The paper also presents a new algorithm for QAM and PAM\\xa0signal\\xa0detection\\xa0over\\xa0complex-valued\\xa0fading\\xa0channels, which can provide\\xa0the optimal data\\xa0esti mate\\xa0over an unknown\\xa0noncoherent\\xa0f fading\\xa0channel,\\xa0in terms of\\xa0the\\xa0Generalized\\xa0Lik\\xa0Elihood\\xa0Ratio Test\\xa0(GLRT),\\xa0which\\xa0has a complexity\\xa0O(T logT) of\\xa01,\\xa02,\\xa03,\\xa04,\\xa05,\\xa06.'"
            ],
            "application/vnd.google.colaboratory.intrinsic+json": {
              "type": "string"
            }
          },
          "metadata": {},
          "execution_count": 185
        }
      ]
    },
    {
      "cell_type": "code",
      "source": [],
      "metadata": {
        "id": "Jr6WKl4rGV-r"
      },
      "execution_count": null,
      "outputs": []
    }
  ]
}